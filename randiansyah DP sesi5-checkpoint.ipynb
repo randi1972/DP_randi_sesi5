{
 "cells": [
  {
   "cell_type": "code",
   "execution_count": null,
   "metadata": {},
   "outputs": [
    {
     "name": "stdout",
     "output_type": "stream",
     "text": [
      "enter your name :Randiansyah\n",
      "enter your kelas :TI22F\n",
      "enter your major :Enginerring informatics\n",
      "enter your age :20 Years old\n"
     ]
    }
   ],
   "source": [
    "name = input(\"enter your name :\")\n",
    "kelas = input(\"enter your kelas :\")\n",
    "major = input(\"enter your major :\")\n",
    "age = input(\"enter your age :\")\n",
    "hobby = input(\"enter your hobby:\")\n",
    "print(\"Hello my name is, {randiansyah}, i`m from {ti22f} {tekhnik informatika}, im {20 yers old}, my hobbies are {fustal}, nice to meet you\")"
   ]
  },
  {
   "cell_type": "code",
   "execution_count": 4,
   "metadata": {},
   "outputs": [
    {
     "ename": "SyntaxError",
     "evalue": "unexpected EOF while parsing (<ipython-input-4-e90c7cecf95a>, line 5)",
     "output_type": "error",
     "traceback": [
      "\u001b[1;36m  File \u001b[1;32m\"<ipython-input-4-e90c7cecf95a>\"\u001b[1;36m, line \u001b[1;32m5\u001b[0m\n\u001b[1;33m    \u001b[0m\n\u001b[1;37m    ^\u001b[0m\n\u001b[1;31mSyntaxError\u001b[0m\u001b[1;31m:\u001b[0m unexpected EOF while parsing\n"
     ]
    }
   ],
   "source": [
    "almat = \"UNIVERSITAS NUSA PUTRA SUKABUMI\"\n",
    "\n",
    "\n"
   ]
  },
  {
   "cell_type": "code",
   "execution_count": null,
   "metadata": {},
   "outputs": [],
   "source": []
  }
 ],
 "metadata": {
  "kernelspec": {
   "display_name": "Python 3",
   "language": "python",
   "name": "python3"
  },
  "language_info": {
   "codemirror_mode": {
    "name": "ipython",
    "version": 3
   },
   "file_extension": ".py",
   "mimetype": "text/x-python",
   "name": "python",
   "nbconvert_exporter": "python",
   "pygments_lexer": "ipython3",
   "version": "3.8.5"
  }
 },
 "nbformat": 4,
 "nbformat_minor": 4
}
